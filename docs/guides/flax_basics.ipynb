{
 "cells": [
  {
   "cell_type": "markdown",
   "metadata": {
    "id": "yf-nWLh0naJi"
   },
   "source": [
    "[![Open in Colab](https://colab.research.google.com/assets/colab-badge.svg)](https://colab.research.google.com/github/google/flax/blob/main/docs/guides/flax_basics.ipynb)\n",
    "[![Open On GitHub](https://img.shields.io/badge/Open-on%20GitHub-blue?logo=GitHub)](https://github.com/google/flax/blob/main/docs/guides/flax_basics.ipynb)\n",
    "\n",
    "# Flax Basics\n",
    "\n",
    "This notebook will walk you through the following workflow:\n",
    "\n",
    "*   Instantiating a model from Flax built-in layers or third-party models.\n",
    "*   Initializing parameters of the model and manually written training.\n",
    "*   Using optimizers provided by Flax to ease training.\n",
    "*   Serialization of parameters and other objects.\n",
    "*   Creating your own models and managing state."
   ]
  },
  {
   "cell_type": "markdown",
   "metadata": {
    "id": "KyANAaZtbs86"
   },
   "source": [
    "## Setting up our environment\n",
    "\n",
    "Here we provide the code needed to set up the environment for our notebook."
   ]
  },
  {
   "cell_type": "code",
   "execution_count": null,
   "metadata": {
    "colab": {
     "base_uri": "https://localhost:8080/"
    },
    "id": "qdrEVv9tinJn",
    "outputId": "e30aa464-fa52-4f35-df96-716c68a4b3ee",
    "tags": [
     "skip-execution"
    ],
    "vscode": {
     "languageId": "python"
    }
   },
   "outputs": [
    {
     "name": "stdout",
     "output_type": "stream",
     "text": [
      "\u001b[33mWARNING: Running pip as root will break packages and permissions. You should install packages reliably by using venv: https://pip.pypa.io/warnings/venv\u001b[0m\n",
      "\u001b[33mWARNING: Running pip as root will break packages and permissions. You should install packages reliably by using venv: https://pip.pypa.io/warnings/venv\u001b[0m\n"
     ]
    }
   ],
   "source": [
    "# Install the latest JAXlib version.\n",
    "!pip install --upgrade -q pip jax jaxlib\n",
    "# Install Flax at head:\n",
    "!pip install --upgrade -q git+https://github.com/google/flax.git"
   ]
  },
  {
   "cell_type": "code",
   "execution_count": 17,
   "metadata": {
    "executionInfo": {
     "elapsed": 57,
     "status": "ok",
     "timestamp": 1674873908618,
     "user": {
      "displayName": "Marcus Chiam",
      "userId": "17531616275590396120"
     },
     "user_tz": 480
    },
    "id": "kN6bZDaReZO2",
    "vscode": {
     "languageId": "python"
    }
   },
   "outputs": [],
   "source": [
    "import jax\n",
    "from typing import Any, Callable, Sequence\n",
    "from jax import lax, random, numpy as jnp\n",
    "from flax import linen as nn"
   ]
  },
  {
   "cell_type": "markdown",
   "metadata": {
    "id": "pCCwAbOLiscA"
   },
   "source": [
    "## Linear regression with Flax\n",
    "\n",
    "In the previous *JAX for the impatient* notebook, we finished up with a linear regression example. As we know, linear regression can also be written as a single dense neural network layer, which we will show in the following so that we can compare how it's done.\n",
    "\n",
    "A dense layer is a layer that has a kernel parameter $W\\in\\mathcal{M}_{m,n}(\\mathbb{R})$ where $m$ is the number of features as an output of the model, and $n$ the dimensionality of the input, and a bias parameter $b\\in\\mathbb{R}^m$. The dense layers returns $Wx+b$ from an input $x\\in\\mathbb{R}^n$.\n",
    "\n",
    "This dense layer is already provided by Flax in the `flax.linen` module (here imported as `nn`)."
   ]
  },
  {
   "cell_type": "code",
   "execution_count": 18,
   "metadata": {
    "executionInfo": {
     "elapsed": 1,
     "status": "ok",
     "timestamp": 1674873910218,
     "user": {
      "displayName": "Marcus Chiam",
      "userId": "17531616275590396120"
     },
     "user_tz": 480
    },
    "id": "zWX2zEtphT4Y",
    "vscode": {
     "languageId": "python"
    }
   },
   "outputs": [],
   "source": [
    "# We create one dense layer instance (taking 'features' parameter as input)\n",
    "model = nn.Dense(features=5)"
   ]
  },
  {
   "cell_type": "markdown",
   "metadata": {
    "id": "UmzP1QoQYAAN"
   },
   "source": [
    "Layers (and models in general, we'll use that word from now on) are subclasses of the `linen.Module` class.\n",
    "\n",
    "### Model parameters & initialization\n",
    "\n",
    "Parameters are not stored with the models themselves. You need to initialize parameters by calling the `init` function, using a PRNGKey and dummy input data."
   ]
  },
  {
   "cell_type": "code",
   "execution_count": 19,
   "metadata": {
    "executionInfo": {
     "elapsed": 55,
     "status": "ok",
     "timestamp": 1674873911368,
     "user": {
      "displayName": "Marcus Chiam",
      "userId": "17531616275590396120"
     },
     "user_tz": 480
    },
    "id": "K529lhzeYtl8",
    "outputId": "f211892c-975d-4dc5-97d3-f570feb6b8ca",
    "vscode": {
     "languageId": "python"
    }
   },
   "outputs": [
    {
     "data": {
      "text/plain": [
       "FrozenDict({\n",
       "    params: {\n",
       "        bias: (5,),\n",
       "        kernel: (10, 5),\n",
       "    },\n",
       "})"
      ]
     },
     "execution_count": 19,
     "metadata": {},
     "output_type": "execute_result"
    }
   ],
   "source": [
    "key1, key2 = random.split(random.PRNGKey(0))\n",
    "x = random.normal(key1, (10,)) # Dummy input data\n",
    "params = model.init(key2, x) # Initialization call\n",
    "jax.tree_util.tree_map(lambda x: x.shape, params) # Checking output shapes"
   ]
  },
  {
   "cell_type": "markdown",
   "metadata": {
    "id": "NH7Y9xMEewmO"
   },
   "source": [
    "*Note: JAX and Flax, like NumPy, are row-based systems, meaning that vectors are represented as row vectors and not column vectors. This can be seen in the shape of the kernel here.*\n",
    "\n",
    "The result is what we expect: bias and kernel parameters of the correct size. Under the hood:\n",
    "\n",
    "*   The dummy input data `x` is used to trigger shape inference: we only declared the number of features we wanted in the output of the model, not the size of the input. Flax finds out by itself the correct size of the kernel.\n",
    "*   The random PRNG key is used to trigger the initialization functions (those have default values provided by the module here).\n",
    "* Initialization functions are called to generate the initial set of parameters that the model will use. Those are functions that take as arguments `(PRNG Key, shape, dtype)` and return an Array of shape `shape`.\n",
    "* The init function returns the initialized set of parameters (you can also get the output of the forward pass on the dummy input with the same syntax by using the `init_with_output` method instead of `init`."
   ]
  },
  {
   "cell_type": "markdown",
   "metadata": {
    "id": "M1qo9M3_naJo"
   },
   "source": [
    "To conduct a forward pass with the model with a given set of parameters (which are never stored with the model), we just use the `apply` method by providing it the parameters to use as well as the input:"
   ]
  },
  {
   "cell_type": "code",
   "execution_count": 20,
   "metadata": {
    "executionInfo": {
     "elapsed": 58,
     "status": "ok",
     "timestamp": 1674873913259,
     "user": {
      "displayName": "Marcus Chiam",
      "userId": "17531616275590396120"
     },
     "user_tz": 480
    },
    "id": "J8ietJecWiuK",
    "outputId": "e6e55476-ca78-4f24-ed54-85113c55f08e",
    "vscode": {
     "languageId": "python"
    }
   },
   "outputs": [
    {
     "data": {
      "text/plain": [
       "Array([-1.3721193 ,  0.61131495,  0.6442836 ,  2.2192965 , -1.1271116 ],      dtype=float32)"
      ]
     },
     "execution_count": 20,
     "metadata": {},
     "output_type": "execute_result"
    }
   ],
   "source": [
    "model.apply(params, x)"
   ]
  },
  {
   "cell_type": "markdown",
   "metadata": {
    "id": "lVsjgYzuSBGL"
   },
   "source": [
    "### Gradient descent\n",
    "\n",
    "If you jumped here directly without going through the JAX part, here is the linear regression formulation we're going to use: from a set of data points $\\{(x_i,y_i), i\\in \\{1,\\ldots, k\\}, x_i\\in\\mathbb{R}^n,y_i\\in\\mathbb{R}^m\\}$, we try to find a set of parameters $W\\in \\mathcal{M}_{m,n}(\\mathbb{R}), b\\in\\mathbb{R}^m$ such that the function $f_{W,b}(x)=Wx+b$ minimizes the mean squared error:\n",
    "\n",
    "$$\\mathcal{L}(W,b)\\rightarrow\\frac{1}{k}\\sum_{i=1}^{k} \\frac{1}{2}\\|y_i-f_{W,b}(x_i)\\|^2_2$$\n",
    "\n",
    "Here, we see that the tuple $(W,b)$ matches the parameters of the Dense layer. We'll perform gradient descent using those. Let's first generate the fake data we'll use. The data is exactly the same as in the JAX part's linear regression pytree example."
   ]
  },
  {
   "cell_type": "code",
   "execution_count": 21,
   "metadata": {
    "executionInfo": {
     "elapsed": 53,
     "status": "ok",
     "timestamp": 1674873914775,
     "user": {
      "displayName": "Marcus Chiam",
      "userId": "17531616275590396120"
     },
     "user_tz": 480
    },
    "id": "bFIiMnL4dl-e",
    "outputId": "8895c131-c7ec-4151-995e-b9efeedf2360",
    "vscode": {
     "languageId": "python"
    }
   },
   "outputs": [
    {
     "name": "stdout",
     "output_type": "stream",
     "text": [
      "x shape: (20, 10) ; y shape: (20, 5)\n"
     ]
    }
   ],
   "source": [
    "# Set problem dimensions.\n",
    "n_samples = 20\n",
    "x_dim = 10\n",
    "y_dim = 5\n",
    "\n",
    "# Generate random ground truth W and b.\n",
    "key = random.PRNGKey(0)\n",
    "k1, k2 = random.split(key)\n",
    "W = random.normal(k1, (x_dim, y_dim))\n",
    "b = random.normal(k2, (y_dim,))\n",
    "# Store the parameters in a dict.\n",
    "true_params = {'params': {'bias': b, 'kernel': W}}\n",
    "\n",
    "# Generate samples with additional noise.\n",
    "key_sample, key_noise = random.split(k1)\n",
    "x_samples = random.normal(key_sample, (n_samples, x_dim))\n",
    "y_samples = jnp.dot(x_samples, W) + b + 0.1 * random.normal(key_noise,(n_samples, y_dim))\n",
    "print('x shape:', x_samples.shape, '; y shape:', y_samples.shape)"
   ]
  },
  {
   "cell_type": "markdown",
   "metadata": {
    "id": "ZHkioicCiUbx"
   },
   "source": [
    "We copy the same training loop that we used in the JAX pytree linear regression example with `jax.value_and_grad()`, but here we can use `model.apply()` instead of having to define our own feed-forward function (`predict_pytree()` in the [JAX example](https://flax.readthedocs.io/en/latest/guides/jax_for_the_impatient.html#linear-regression-with-pytrees))."
   ]
  },
  {
   "cell_type": "code",
   "execution_count": 22,
   "metadata": {
    "executionInfo": {
     "elapsed": 54,
     "status": "ok",
     "timestamp": 1674873917111,
     "user": {
      "displayName": "Marcus Chiam",
      "userId": "17531616275590396120"
     },
     "user_tz": 480
    },
    "id": "JqJaVc7BeNyT",
    "vscode": {
     "languageId": "python"
    }
   },
   "outputs": [],
   "source": [
    "# Same as JAX version but using model.apply().\n",
    "@jax.jit\n",
    "def mse(params, x_batched, y_batched):\n",
    "  # Define the squared loss for a single pair (x,y)\n",
    "  def squared_error(x, y):\n",
    "    pred = model.apply(params, x)\n",
    "    return jnp.inner(y-pred, y-pred) / 2.0\n",
    "  # Vectorize the previous to compute the average of the loss on all samples.\n",
    "  return jnp.mean(jax.vmap(squared_error)(x_batched,y_batched), axis=0)"
   ]
  },
  {
   "cell_type": "markdown",
   "metadata": {
    "id": "wGKru__mi15v"
   },
   "source": [
    "And finally perform the gradient descent."
   ]
  },
  {
   "cell_type": "code",
   "execution_count": 23,
   "metadata": {
    "executionInfo": {
     "elapsed": 815,
     "status": "ok",
     "timestamp": 1674873918936,
     "user": {
      "displayName": "Marcus Chiam",
      "userId": "17531616275590396120"
     },
     "user_tz": 480
    },
    "id": "ePEl1ndse0Jq",
    "outputId": "3c444941-d177-42ba-a420-bc9a355cf296",
    "vscode": {
     "languageId": "python"
    }
   },
   "outputs": [
    {
     "name": "stdout",
     "output_type": "stream",
     "text": [
      "Loss for \"true\" W,b:  0.023639796\n",
      "Loss step 0:  35.343876\n",
      "Loss step 10:  0.5143468\n",
      "Loss step 20:  0.113841616\n",
      "Loss step 30:  0.039326727\n",
      "Loss step 40:  0.019916186\n",
      "Loss step 50:  0.014209135\n",
      "Loss step 60:  0.0124256415\n",
      "Loss step 70:  0.01185039\n",
      "Loss step 80:  0.011661778\n",
      "Loss step 90:  0.011599404\n",
      "Loss step 100:  0.011578696\n"
     ]
    }
   ],
   "source": [
    "learning_rate = 0.3  # Gradient step size.\n",
    "print('Loss for \"true\" W,b: ', mse(true_params, x_samples, y_samples))\n",
    "loss_grad_fn = jax.value_and_grad(mse)\n",
    "\n",
    "@jax.jit\n",
    "def update_params(params, learning_rate, grads):\n",
    "  params = jax.tree_util.tree_map(\n",
    "      lambda p, g: p - learning_rate * g, params, grads)\n",
    "  return params\n",
    "\n",
    "for i in range(101):\n",
    "  # Perform one gradient update.\n",
    "  loss_val, grads = loss_grad_fn(params, x_samples, y_samples)\n",
    "  params = update_params(params, learning_rate, grads)\n",
    "  if i % 10 == 0:\n",
    "    print(f'Loss step {i}: ', loss_val)"
   ]
  },
  {
   "cell_type": "markdown",
   "metadata": {
    "id": "zqEnJ9Poyb6q"
   },
   "source": [
    "### Optimizing with Optax\n",
    "\n",
    "Flax used to use its own `flax.optim` package for optimization, but with\n",
    "[FLIP #1009](https://github.com/google/flax/blob/main/docs/flip/1009-optimizer-api.md)\n",
    "this was deprecated in favor of\n",
    "[Optax](https://github.com/deepmind/optax).\n",
    "\n",
    "Basic usage of Optax is straightforward:\n",
    "\n",
    "1.   Choose an optimization method (e.g. `optax.adam`).\n",
    "2.   Create optimizer state from parameters (for the Adam optimizer, this state will contain the [momentum values](https://optax.readthedocs.io/en/latest/api.html#optax.adam)).\n",
    "3.   Compute the gradients of your loss with `jax.value_and_grad()`.\n",
    "4.   At every iteration, call the Optax `update` function to update the internal\n",
    "     optimizer state and create an update to the parameters. Then add the update\n",
    "     to the parameters with Optax's `apply_updates` method.\n",
    "\n",
    "Note that Optax can do a lot more: it's designed for composing simple gradient\n",
    "transformations into more complex transformations that allows to implement a\n",
    "wide range of optimizers. There is also support for changing optimizer\n",
    "hyperparameters over time (\"schedules\"), applying different updates to different\n",
    "parts of the parameter tree (\"masking\") and much more. For details please refer\n",
    "to the\n",
    "[official documentation](https://optax.readthedocs.io/en/latest/)."
   ]
  },
  {
   "cell_type": "code",
   "execution_count": 24,
   "metadata": {
    "executionInfo": {
     "elapsed": 53,
     "status": "ok",
     "timestamp": 1674873920662,
     "user": {
      "displayName": "Marcus Chiam",
      "userId": "17531616275590396120"
     },
     "user_tz": 480
    },
    "id": "Ce77uDJx1bUF",
    "vscode": {
     "languageId": "python"
    }
   },
   "outputs": [],
   "source": [
    "import optax\n",
    "tx = optax.adam(learning_rate=learning_rate)\n",
    "opt_state = tx.init(params)\n",
    "loss_grad_fn = jax.value_and_grad(mse)"
   ]
  },
  {
   "cell_type": "code",
   "execution_count": 25,
   "metadata": {
    "executionInfo": {
     "elapsed": 874,
     "status": "ok",
     "timestamp": 1674873922307,
     "user": {
      "displayName": "Marcus Chiam",
      "userId": "17531616275590396120"
     },
     "user_tz": 480
    },
    "id": "PTSv0vx13xPO",
    "outputId": "f51a6525-70ec-4de9-9b68-6f7fa587fc6b",
    "vscode": {
     "languageId": "python"
    }
   },
   "outputs": [
    {
     "name": "stdout",
     "output_type": "stream",
     "text": [
      "Loss step 0:  0.011577619\n",
      "Loss step 10:  0.26143152\n",
      "Loss step 20:  0.07675066\n",
      "Loss step 30:  0.036440928\n",
      "Loss step 40:  0.022013078\n",
      "Loss step 50:  0.016178658\n",
      "Loss step 60:  0.013002755\n",
      "Loss step 70:  0.012026123\n",
      "Loss step 80:  0.011764515\n",
      "Loss step 90:  0.011646035\n",
      "Loss step 100:  0.011585519\n"
     ]
    }
   ],
   "source": [
    "for i in range(101):\n",
    "  loss_val, grads = loss_grad_fn(params, x_samples, y_samples)\n",
    "  updates, opt_state = tx.update(grads, opt_state)\n",
    "  params = optax.apply_updates(params, updates)\n",
    "  if i % 10 == 0:\n",
    "    print('Loss step {}: '.format(i), loss_val)"
   ]
  },
  {
   "cell_type": "markdown",
   "metadata": {
    "id": "0eAPPwtpXYu7"
   },
   "source": [
    "### Serializing the result\n",
    "\n",
    "Now that we're happy with the result of our training, we might want to save the model parameters to load them back later. Flax provides a serialization package to enable you to do that."
   ]
  },
  {
   "cell_type": "code",
   "execution_count": 26,
   "metadata": {
    "executionInfo": {
     "elapsed": 58,
     "status": "ok",
     "timestamp": 1674873923411,
     "user": {
      "displayName": "Marcus Chiam",
      "userId": "17531616275590396120"
     },
     "user_tz": 480
    },
    "id": "BiUPRU93XnAZ",
    "outputId": "07fc6a19-b3bd-4134-b0ff-05a95f61f7cd",
    "vscode": {
     "languageId": "python"
    }
   },
   "outputs": [
    {
     "name": "stdout",
     "output_type": "stream",
     "text": [
      "Dict output\n",
      "{'params': {'bias': Array([-1.4555765, -2.027799 ,  2.0790975,  1.2186143, -0.9980974],      dtype=float32), 'kernel': Array([[ 1.0098808 ,  0.18934363,  0.0445502 , -0.92802227,  0.34784004],\n",
      "       [ 1.7298454 ,  0.98793703,  1.1640465 ,  1.1006079 , -0.10653931],\n",
      "       [-1.2029461 ,  0.28635228,  1.4155982 ,  0.11870936, -1.3141482 ],\n",
      "       [-1.1941488 , -0.18958506,  0.0341386 ,  1.3169425 ,  0.08060396],\n",
      "       [ 0.13852414,  1.3713043 , -1.3187186 ,  0.5315267 , -2.2404995 ],\n",
      "       [ 0.5629401 ,  0.8122313 ,  0.31752002,  0.5345511 ,  0.90500367],\n",
      "       [-0.37926018,  1.7410394 ,  1.0790286 , -0.5039833 ,  0.92830586],\n",
      "       [ 0.9706487 , -1.3153405 ,  0.33681527,  0.80993414, -1.2018455 ],\n",
      "       [ 1.0194311 , -0.6202478 ,  1.081883  , -1.8389739 , -0.4580503 ],\n",
      "       [-0.6436537 ,  0.456667  , -1.1329138 , -0.68538654,  0.16829044]],      dtype=float32)}}\n",
      "Bytes output\n",
      "b'\\x81\\xa6params\\x82\\xa4bias\\xc7!\\x01\\x93\\x91\\x05\\xa7float32\\xc4\\x14UP\\xba\\xbfu\\xc7\\x01\\xc0\\xef\\x0f\\x05@\\x8e\\xfb\\x9b?P\\x83\\x7f\\xbf\\xa6kernel\\xc7\\xd6\\x01\\x93\\x92\\n\\x05\\xa7float32\\xc4\\xc8\\xc6C\\x81?L\\xe3A>Dz6=\\xde\\x92m\\xbf\\x17\\x18\\xb2>\\x93k\\xdd?q\\xe9|?z\\xff\\x94?\\xb8\\xe0\\x8c?H1\\xda\\xbd#\\xfa\\x99\\xbf\\xc4\\x9c\\x92>R2\\xb5?\\xe4\\x1d\\xf3=\\x026\\xa8\\xbf\\xde\\xd9\\x98\\xbf\\x96\"B\\xbe\\xeb\\xd4\\x0b=\\x92\\x91\\xa8?\\xb0\\x13\\xa5=F\\xd9\\r>\\xe6\\x86\\xaf?\\xc5\\xcb\\xa8\\xbf\"\\x12\\x08?Xd\\x0f\\xc0\\xd8\\x1c\\x10?d\\xeeO?\\xfc\\x91\\xa2>W\\xd8\\x08?R\\xaeg?d.\\xc2\\xbea\\xda\\xde?\\x9c\\x1d\\x8a?\\r\\x05\\x01\\xbft\\xa5m?o|x?\\x14]\\xa8\\xbf\\rs\\xac>\\xd8WO?\\x13\\xd6\\x99\\xbf\\xb8|\\x82?\\x8f\\xc8\\x1e\\xbf${\\x8a?\\x7fc\\xeb\\xbf\\x92\\x85\\xea\\xbe}\\xc6$\\xbfB\\xd0\\xe9>R\\x03\\x91\\xbf~u/\\xbfTT,>'\n"
     ]
    }
   ],
   "source": [
    "from flax import serialization\n",
    "bytes_output = serialization.to_bytes(params)\n",
    "dict_output = serialization.to_state_dict(params)\n",
    "print('Dict output')\n",
    "print(dict_output)\n",
    "print('Bytes output')\n",
    "print(bytes_output)"
   ]
  },
  {
   "cell_type": "markdown",
   "metadata": {
    "id": "eielPo2KZByd"
   },
   "source": [
    "To load the model back, you'll need to use a template of the model parameter structure, like the one you would get from the model initialization. Here, we use the previously generated `params` as a template. Note that this will produce a new variable structure, and not mutate in-place.\n",
    "\n",
    "*The point of enforcing structure through template is to avoid users issues downstream, so you need to first have the right model that generates the parameters structure.*"
   ]
  },
  {
   "cell_type": "code",
   "execution_count": 30,
   "metadata": {
    "executionInfo": {
     "elapsed": 60,
     "status": "ok",
     "timestamp": 1674873968644,
     "user": {
      "displayName": "Marcus Chiam",
      "userId": "17531616275590396120"
     },
     "user_tz": 480
    },
    "id": "MOhoBDCOYYJ5",
    "outputId": "2de7ebfa-e104-4cda-c299-a89fb2531eb9",
    "vscode": {
     "languageId": "python"
    }
   },
   "outputs": [
    {
     "name": "stdout",
     "output_type": "stream",
     "text": [
      "{'params': {'bias': array([-1.4555764, -2.027799 ,  2.0790977,  1.2186142, -0.9980981],\n",
      "      dtype=float32), 'kernel': array([[ 1.0098805 ,  0.18934369,  0.04455047, -0.9280221 ,  0.34784028],\n",
      "       [ 1.729845  ,  0.9879368 ,  1.1640462 ,  1.1006078 , -0.10653915],\n",
      "       [-1.2029462 ,  0.286352  ,  1.4155982 ,  0.11870942, -1.3141483 ],\n",
      "       [-1.1941484 , -0.18958503,  0.03413861,  1.3169426 ,  0.0806038 ],\n",
      "       [ 0.13852423,  1.3713042 , -1.3187188 ,  0.5315267 , -2.2404995 ],\n",
      "       [ 0.56293994,  0.8122313 ,  0.31751996,  0.5345509 ,  0.90500396],\n",
      "       [-0.3792604 ,  1.7410393 ,  1.0790286 , -0.50398314,  0.9283066 ],\n",
      "       [ 0.9706492 , -1.3153403 ,  0.33681515,  0.8099343 , -1.2018455 ],\n",
      "       [ 1.0194308 , -0.6202478 ,  1.0818828 , -1.838974  , -0.45804968],\n",
      "       [-0.64365363,  0.45666704, -1.1329137 , -0.6853864 ,  0.16829015]],\n",
      "      dtype=float32)}}\n",
      "\n"
     ]
    }
   ],
   "source": [
    "serialization.from_bytes(params, bytes_output)"
   ]
  },
  {
   "cell_type": "markdown",
   "metadata": {
    "id": "8mNu8nuOhDC5"
   },
   "source": [
    "## Defining your own models\n",
    "\n",
    "Flax allows you to define your own models, which should be a bit more complicated than a linear regression. In this section, we'll show you how to build simple models. To do so, you'll need to create subclasses of the base `nn.Module` class.\n",
    "\n",
    "*Keep in mind that we imported* `linen as nn` *and this only works with the new linen API*"
   ]
  },
  {
   "cell_type": "markdown",
   "metadata": {
    "id": "1sllHAdRlpmQ"
   },
   "source": [
    "### Module basics\n",
    "\n",
    "The base abstraction for models is the `nn.Module` class, and every type of predefined layers in Flax (like the previous `Dense`) is a subclass of `nn.Module`. Let's take a look and start by defining a simple but custom multi-layer perceptron i.e. a sequence of Dense layers interleaved with calls to a non-linear activation function."
   ]
  },
  {
   "cell_type": "code",
   "execution_count": 35,
   "metadata": {
    "executionInfo": {
     "elapsed": 186,
     "status": "ok",
     "timestamp": 1674874082797,
     "user": {
      "displayName": "Marcus Chiam",
      "userId": "17531616275590396120"
     },
     "user_tz": 480
    },
    "id": "vbfrfbkxgPhg",
    "outputId": "e3e71eb4-7eea-4ee8-b01f-03d8fb5198d1",
    "vscode": {
     "languageId": "python"
    }
   },
   "outputs": [
    {
     "name": "stdout",
     "output_type": "stream",
     "text": [
      "initialized parameter shapes:\n",
      " {'params': {'layers_0': {'bias': (3,), 'kernel': (4, 3)}, 'layers_1': {'bias': (4,), 'kernel': (3, 4)}, 'layers_2': {'bias': (5,), 'kernel': (4, 5)}}}\n",
      "output:\n",
      " [[ 0.          0.          0.          0.          0.        ]\n",
      " [ 0.0072379  -0.00810347 -0.02550939  0.02151716 -0.01261241]\n",
      " [ 0.          0.          0.          0.          0.        ]\n",
      " [ 0.          0.          0.          0.          0.        ]]\n"
     ]
    }
   ],
   "source": [
    "class ExplicitMLP(nn.Module):\n",
    "  features: Sequence[int]\n",
    "\n",
    "  def setup(self):\n",
    "    # we automatically know what to do with lists, dicts of submodules\n",
    "    self.layers = [nn.Dense(feat) for feat in self.features]\n",
    "    # for single submodules, we would just write:\n",
    "    # self.layer1 = nn.Dense(feat1)\n",
    "\n",
    "  def __call__(self, inputs):\n",
    "    x = inputs\n",
    "    for i, lyr in enumerate(self.layers):\n",
    "      x = lyr(x)\n",
    "      if i != len(self.layers) - 1:\n",
    "        x = nn.relu(x)\n",
    "    return x\n",
    "\n",
    "key1, key2 = random.split(random.PRNGKey(0), 2)\n",
    "x = random.uniform(key1, (4,4))\n",
    "\n",
    "model = ExplicitMLP(features=[3,4,5])\n",
    "params = model.init(key2, x)\n",
    "y = model.apply(params, x)\n",
    "\n",
    "print('initialized parameter shapes:\\n', jax.tree_util.tree_map(jnp.shape, params))\n",
    "print('output:\\n', y)"
   ]
  },
  {
   "cell_type": "markdown",
   "metadata": {
    "id": "DDITIjXitEZl"
   },
   "source": [
    "As we can see, a `nn.Module` subclass is made of:\n",
    "\n",
    "*   A collection of data fields (`nn.Module` are Python dataclasses) - here we only have the `features` field of type `Sequence[int]`.\n",
    "*   A `setup()` method that is being called at the end of the `__postinit__` where you can register submodules, variables, parameters you will need in your model.\n",
    "*   A `__call__` function that returns the output of the model from a given input.\n",
    "*   The model structure defines a pytree of parameters following the same tree structure as the model: the params tree contains one `layers_n` sub dict per layer, and each of those contain the parameters of the associated Dense layer. The layout is very explicit.\n",
    "\n",
    "*Note: lists are mostly managed as you would expect (WIP), there are corner cases you should be aware of as pointed out* [here](https://github.com/google/flax/issues/524)\n",
    "\n",
    "Since the module structure and its parameters are not tied to each other, you can't directly call `model(x)` on a given input as it will return an error. The `__call__` function is being wrapped up in the `apply` one, which is the one to call on an input:"
   ]
  },
  {
   "cell_type": "code",
   "execution_count": 36,
   "metadata": {
    "executionInfo": {
     "elapsed": 66,
     "status": "ok",
     "timestamp": 1674874097200,
     "user": {
      "displayName": "Marcus Chiam",
      "userId": "17531616275590396120"
     },
     "user_tz": 480
    },
    "id": "DEYrVA6dnaJu",
    "outputId": "61c328bd-d586-493c-a0a0-a3004033ff62",
    "vscode": {
     "languageId": "python"
    }
   },
   "outputs": [
    {
     "name": "stdout",
     "output_type": "stream",
     "text": [
      "\"ExplicitMLP\" object has no attribute \"layers\". If \"layers\" is defined in '.setup()', remember these fields are only accessible from inside 'init' or 'apply'.\n"
     ]
    }
   ],
   "source": [
    "try:\n",
    "    y = model(x) # Returns an error\n",
    "except AttributeError as e:\n",
    "    print(e)"
   ]
  },
  {
   "cell_type": "markdown",
   "metadata": {
    "id": "I__UrmShnaJu"
   },
   "source": [
    "Since here we have a very simple model, we could have used an alternative (but equivalent) way of declaring the submodules inline in the `__call__` using the `@nn.compact` annotation like so:"
   ]
  },
  {
   "cell_type": "code",
   "execution_count": 39,
   "metadata": {
    "executionInfo": {
     "elapsed": 180,
     "status": "ok",
     "timestamp": 1674874147005,
     "user": {
      "displayName": "Marcus Chiam",
      "userId": "17531616275590396120"
     },
     "user_tz": 480
    },
    "id": "ZTCbdpQ4suSK",
    "outputId": "74375c32-0d97-4e1e-e2cc-4bd4663524f6",
    "vscode": {
     "languageId": "python"
    }
   },
   "outputs": [
    {
     "name": "stdout",
     "output_type": "stream",
     "text": [
      "initialized parameter shapes:\n",
      " {'params': {'layers_0': {'bias': (3,), 'kernel': (4, 3)}, 'layers_1': {'bias': (4,), 'kernel': (3, 4)}, 'layers_2': {'bias': (5,), 'kernel': (4, 5)}}}\n",
      "output:\n",
      " [[ 0.          0.          0.          0.          0.        ]\n",
      " [ 0.0072379  -0.00810347 -0.02550939  0.02151716 -0.01261241]\n",
      " [ 0.          0.          0.          0.          0.        ]\n",
      " [ 0.          0.          0.          0.          0.        ]]\n"
     ]
    }
   ],
   "source": [
    "class SimpleMLP(nn.Module):\n",
    "  features: Sequence[int]\n",
    "\n",
    "  @nn.compact\n",
    "  def __call__(self, inputs):\n",
    "    x = inputs\n",
    "    for i, feat in enumerate(self.features):\n",
    "      x = nn.Dense(feat, name=f'layers_{i}')(x)\n",
    "      if i != len(self.features) - 1:\n",
    "        x = nn.relu(x)\n",
    "      # providing a name is optional though!\n",
    "      # the default autonames would be \"Dense_0\", \"Dense_1\", ...\n",
    "    return x\n",
    "\n",
    "key1, key2 = random.split(random.PRNGKey(0), 2)\n",
    "x = random.uniform(key1, (4,4))\n",
    "\n",
    "model = SimpleMLP(features=[3,4,5])\n",
    "params = model.init(key2, x)\n",
    "y = model.apply(params, x)\n",
    "\n",
    "print('initialized parameter shapes:\\n', jax.tree_util.tree_map(jnp.shape, params))\n",
    "print('output:\\n', y)"
   ]
  },
  {
   "cell_type": "markdown",
   "metadata": {
    "id": "es7YHjgexT-L"
   },
   "source": [
    "There are, however, a few differences you should be aware of between the two declaration modes:\n",
    "\n",
    "*   In `setup`, you are able to name some sublayers and keep them around for further use (e.g. encoder/decoder methods in autoencoders).\n",
    "*   If you want to have multiple methods, then you **need** to declare the module using `setup`, as the `@nn.compact` annotation only allows one method to be annotated.\n",
    "*   The last initialization will be handled differently. See these notes for more details (TODO: add notes link)."
   ]
  },
  {
   "cell_type": "markdown",
   "metadata": {
    "id": "-ykceROJyp7W"
   },
   "source": [
    "### Module parameters\n",
    "\n",
    "In the previous MLP example, we relied only on predefined layers and operators (`Dense`, `relu`). Let's imagine that you didn't have a Dense layer provided by Flax and you wanted to write it on your own. Here is what it would look like using the `@nn.compact` way to declare a new modules:"
   ]
  },
  {
   "cell_type": "code",
   "execution_count": 41,
   "metadata": {
    "executionInfo": {
     "elapsed": 98,
     "status": "ok",
     "timestamp": 1674874183118,
     "user": {
      "displayName": "Marcus Chiam",
      "userId": "17531616275590396120"
     },
     "user_tz": 480
    },
    "id": "wK371Pt_vVfR",
    "outputId": "27590735-52d6-4ce7-eb5c-350240e0a72f",
    "vscode": {
     "languageId": "python"
    }
   },
   "outputs": [
    {
     "name": "stdout",
     "output_type": "stream",
     "text": [
      "initialized parameters:\n",
      " {'params': {'bias': Array([0., 0., 0.], dtype=float32), 'kernel': Array([[ 0.61506   , -0.22728713,  0.6054702 ],\n",
      "       [-0.29617992,  1.1232013 , -0.879759  ],\n",
      "       [-0.35162622,  0.3806491 ,  0.6893246 ],\n",
      "       [-0.1151355 ,  0.04567898, -1.091212  ]], dtype=float32)}}\n",
      "output:\n",
      " [[-0.02996204  1.102088   -0.6660265 ]\n",
      " [-0.31092793  0.6323942  -0.53678817]\n",
      " [ 0.01424007  0.9424717  -0.63561463]\n",
      " [ 0.36818963  0.3586519  -0.00459215]]\n"
     ]
    }
   ],
   "source": [
    "class SimpleDense(nn.Module):\n",
    "  features: int\n",
    "  kernel_init: Callable = nn.initializers.lecun_normal()\n",
    "  bias_init: Callable = nn.initializers.zeros_init()\n",
    "\n",
    "  @nn.compact\n",
    "  def __call__(self, inputs):\n",
    "    kernel = self.param('kernel',\n",
    "                        self.kernel_init, # Initialization function\n",
    "                        (inputs.shape[-1], self.features))  # shape info.\n",
    "    y = lax.dot_general(inputs, kernel,\n",
    "                        (((inputs.ndim - 1,), (0,)), ((), ())),) # TODO Why not jnp.dot?\n",
    "    bias = self.param('bias', self.bias_init, (self.features,))\n",
    "    y = y + bias\n",
    "    return y\n",
    "\n",
    "key1, key2 = random.split(random.PRNGKey(0), 2)\n",
    "x = random.uniform(key1, (4,4))\n",
    "\n",
    "model = SimpleDense(features=3)\n",
    "params = model.init(key2, x)\n",
    "y = model.apply(params, x)\n",
    "\n",
    "print('initialized parameters:\\n', params)\n",
    "print('output:\\n', y)"
   ]
  },
  {
   "cell_type": "markdown",
   "metadata": {
    "id": "MKyhfzVpzC94"
   },
   "source": [
    "Here, we see how to both declare and assign a parameter to the model using the `self.param` method. It takes as input `(name, init_fn, *init_args)` :\n",
    "\n",
    "*   `name` is simply the name of the parameter that will end up in the parameter structure.\n",
    "*   `init_fn` is a function with input `(PRNGKey, *init_args)` returning an Array, with `init_args` being the arguments needed to call the initialisation function.\n",
    "*   `init_args` are the arguments to provide to the initialization function.\n",
    "\n",
    "Such params can also be declared in the `setup` method; it won't be able to use shape inference because Flax is using lazy initialization at the first call site."
   ]
  },
  {
   "cell_type": "markdown",
   "metadata": {
    "id": "QmSpxyqLDr58"
   },
   "source": [
    "### Variables and collections of variables\n",
    "\n",
    "As we've seen so far, working with models means working with:\n",
    "\n",
    "*   A subclass of `nn.Module`;\n",
    "*   A pytree of parameters for the model (typically from `model.init()`);\n",
    "\n",
    "However this is not enough to cover everything that we would need for machine learning, especially neural networks. In some cases, you might want your neural network to keep track of some internal state while it runs (e.g. batch normalization layers). There is a way to declare variables beyond the parameters of the model with the `variable` method.\n",
    "\n",
    "For demonstration purposes, we'll implement a simplified but similar mechanism to batch normalization: we'll store running averages and subtract those to the input at training time. For proper batchnorm, you should use (and look at) the implementation [here](https://github.com/google/flax/blob/main/flax/linen/normalization.py)."
   ]
  },
  {
   "cell_type": "code",
   "execution_count": 43,
   "metadata": {
    "executionInfo": {
     "elapsed": 59,
     "status": "ok",
     "timestamp": 1674874256167,
     "user": {
      "displayName": "Marcus Chiam",
      "userId": "17531616275590396120"
     },
     "user_tz": 480
    },
    "id": "J6_tR-nPzB1i",
    "outputId": "6e3b54b3-0260-49c3-834c-7b39339e4f0b",
    "vscode": {
     "languageId": "python"
    }
   },
   "outputs": [
    {
     "name": "stdout",
     "output_type": "stream",
     "text": [
      "initialized variables:\n",
      " {'batch_stats': {'mean': Array([0., 0., 0., 0., 0.], dtype=float32)}, 'params': {'bias': Array([0., 0., 0., 0., 0.], dtype=float32)}}\n",
      "updated state:\n",
      " {'batch_stats': {'mean': Array([[0.01, 0.01, 0.01, 0.01, 0.01]], dtype=float32)}}\n"
     ]
    }
   ],
   "source": [
    "class BiasAdderWithRunningMean(nn.Module):\n",
    "  decay: float = 0.99\n",
    "\n",
    "  @nn.compact\n",
    "  def __call__(self, x):\n",
    "    # easy pattern to detect if we're initializing via empty variable tree\n",
    "    is_initialized = self.has_variable('batch_stats', 'mean')\n",
    "    ra_mean = self.variable('batch_stats', 'mean',\n",
    "                            lambda s: jnp.zeros(s),\n",
    "                            x.shape[1:])\n",
    "    mean = ra_mean.value # This will either get the value or trigger init\n",
    "    bias = self.param('bias', lambda rng, shape: jnp.zeros(shape), x.shape[1:])\n",
    "    if is_initialized:\n",
    "      ra_mean.value = self.decay * ra_mean.value + (1.0 - self.decay) * jnp.mean(x, axis=0, keepdims=True)\n",
    "\n",
    "    return x - ra_mean.value + bias\n",
    "\n",
    "\n",
    "key1, key2 = random.split(random.PRNGKey(0), 2)\n",
    "x = jnp.ones((10,5))\n",
    "model = BiasAdderWithRunningMean()\n",
    "variables = model.init(key1, x)\n",
    "print('initialized variables:\\n', variables)\n",
    "y, updated_state = model.apply(variables, x, mutable=['batch_stats'])\n",
    "print('updated state:\\n', updated_state)"
   ]
  },
  {
   "cell_type": "markdown",
   "metadata": {
    "id": "5OHBbMJng3ic"
   },
   "source": [
    "Here, `updated_state` returns only the state variables that are being mutated by the model while applying it on data. To update the variables and get the new parameters of the model, we can use the following pattern:"
   ]
  },
  {
   "cell_type": "code",
   "execution_count": 47,
   "metadata": {
    "executionInfo": {
     "elapsed": 4,
     "status": "ok",
     "timestamp": 1674874463906,
     "user": {
      "displayName": "Marcus Chiam",
      "userId": "17531616275590396120"
     },
     "user_tz": 480
    },
    "id": "IbTsCAvZcdBy",
    "outputId": "9b4f6da1-851b-44ac-b254-7c1fe9c4aa4c",
    "vscode": {
     "languageId": "python"
    }
   },
   "outputs": [
    {
     "name": "stdout",
     "output_type": "stream",
     "text": [
      "updated state:\n",
      "{'batch_stats': {'mean': Array([[0.01, 0.01, 0.01, 0.01, 0.01]], dtype=float32)}}\n",
      "updated state:\n",
      "{'batch_stats': {'mean': Array([[0.0299, 0.0299, 0.0299, 0.0299, 0.0299]], dtype=float32)}}\n",
      "updated state:\n",
      "{'batch_stats': {'mean': Array([[0.059601, 0.059601, 0.059601, 0.059601, 0.059601]], dtype=float32)}}\n"
     ]
    }
   ],
   "source": [
    "for val in [1.0, 2.0, 3.0]:\n",
    "  x = val * jnp.ones((10,5))\n",
    "  y, updated_state = model.apply(variables, x, mutable=['batch_stats'])\n",
    "  params = variables.pop('params')\n",
    "  variables = {'params': params, **updated_state}\n",
    "  print('updated state:\\n', updated_state) # Shows only the mutable part"
   ]
  },
  {
   "cell_type": "markdown",
   "metadata": {
    "id": "GuUSOSKegKIM"
   },
   "source": [
    "From this simplified example, you should be able to derive a full BatchNorm implementation, or any layer involving a state. To finish, let's add an optimizer to see how to play with both parameters updated by an optimizer and state variables.\n",
    "\n",
    "*This example isn't doing anything and is only for demonstration purposes.*"
   ]
  },
  {
   "cell_type": "code",
   "execution_count": 49,
   "metadata": {
    "executionInfo": {
     "elapsed": 58,
     "status": "ok",
     "timestamp": 1674874605332,
     "user": {
      "displayName": "Marcus Chiam",
      "userId": "17531616275590396120"
     },
     "user_tz": 480
    },
    "id": "TUgAbUPpnaJw",
    "outputId": "690ca4a3-a564-4325-f0ef-0dba52779629",
    "vscode": {
     "languageId": "python"
    }
   },
   "outputs": [
    {
     "name": "stdout",
     "output_type": "stream",
     "text": [
      "Updated state:  {'batch_stats': {'mean': Array([[0.01, 0.01, 0.01, 0.01, 0.01]], dtype=float32)}}\n",
      "Updated state:  {'batch_stats': {'mean': Array([[0.0199, 0.0199, 0.0199, 0.0199, 0.0199]], dtype=float32)}}\n",
      "Updated state:  {'batch_stats': {'mean': Array([[0.029701, 0.029701, 0.029701, 0.029701, 0.029701]], dtype=float32)}}\n"
     ]
    }
   ],
   "source": [
    "from functools import partial\n",
    "\n",
    "@partial(jax.jit, static_argnums=(0, 1))\n",
    "def update_step(tx, apply_fn, x, opt_state, params, state):\n",
    "\n",
    "  def loss(params):\n",
    "    y, updated_state = apply_fn({'params': params, **state},\n",
    "                                x, mutable=list(state.keys()))\n",
    "    l = ((x - y) ** 2).sum()\n",
    "    return l, updated_state\n",
    "\n",
    "  (l, state), grads = jax.value_and_grad(loss, has_aux=True)(params)\n",
    "  updates, opt_state = tx.update(grads, opt_state)\n",
    "  params = optax.apply_updates(params, updates)\n",
    "  return opt_state, params, state\n",
    "\n",
    "x = jnp.ones((10,5))\n",
    "variables = model.init(random.PRNGKey(0), x)\n",
    "state = variables.copy()\n",
    "params = state.pop('params')\n",
    "del variables\n",
    "tx = optax.sgd(learning_rate=0.02)\n",
    "opt_state = tx.init(params)\n",
    "\n",
    "for _ in range(3):\n",
    "  opt_state, params, state = update_step(tx, model.apply, x, opt_state, params, state)\n",
    "  print('Updated state: ', state)"
   ]
  },
  {
   "cell_type": "markdown",
   "metadata": {
    "id": "eWUmx5EjtWge"
   },
   "source": [
    "Note that the above function has a quite verbose signature and it would not actually\n",
    "work with `jax.jit()` because the function arguments are not \"valid JAX types\".\n",
    "\n",
    "Flax provides a handy wrapper - `TrainState` - that simplifies the above code. Check out [`flax.training.train_state.TrainState`](https://flax.readthedocs.io/en/latest/api_reference/flax.training.html#flax.training.train_state.TrainState) to learn more."
   ]
  },
  {
   "cell_type": "markdown",
   "metadata": {
    "id": "_GL0PsCwnaJw"
   },
   "source": [
    "### Exporting to Tensorflow's SavedModel with jax2tf\n",
    "\n",
    "JAX released an experimental converter called [jax2tf](https://github.com/google/jax/tree/main/jax/experimental/jax2tf), which allows converting trained Flax models into Tensorflow's SavedModel format (so it can be used for [TF Hub](https://www.tensorflow.org/hub), [TF.lite](https://www.tensorflow.org/lite), [TF.js](https://www.tensorflow.org/js), or other downstream applications). The repository contains more documentation and has various examples for Flax."
   ]
  }
 ],
 "metadata": {
  "colab": {
   "last_runtime": {
    "build_target": "//learning/deepmind/public/tools/ml_python:ml_notebook",
    "kind": "private"
   },
   "provenance": []
  },
  "jupytext": {
   "formats": "ipynb,md:myst"
  },
  "kernelspec": {
   "display_name": "Python 3",
   "name": "python3"
  }
 },
 "nbformat": 4,
 "nbformat_minor": 0
}
