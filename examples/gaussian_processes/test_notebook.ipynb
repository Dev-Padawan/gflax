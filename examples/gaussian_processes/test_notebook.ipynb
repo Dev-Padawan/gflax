{
 "cells": [
  {
   "cell_type": "code",
   "execution_count": 1,
   "metadata": {},
   "outputs": [
    {
     "name": "stderr",
     "output_type": "stream",
     "text": [
      "/Users/danieltait/anaconda3/envs/flax_fork/lib/python3.7/site-packages/jax/lib/xla_bridge.py:122: UserWarning: No GPU/TPU found, falling back to CPU.\n",
      "  warnings.warn('No GPU/TPU found, falling back to CPU.')\n"
     ]
    }
   ],
   "source": [
    "import jax.numpy as jnp\n",
    "import numpy as onp\n",
    "import flax\n",
    "from flax import struct\n",
    "from typing import Callable\n",
    "from jax import random\n",
    "import kernels\n",
    "import distributions\n",
    "import gpflow\n",
    "\n",
    "from jax.config import config\n",
    "config.update(\"jax_enable_x64\", True)"
   ]
  },
  {
   "cell_type": "code",
   "execution_count": 2,
   "metadata": {},
   "outputs": [],
   "source": [
    "lengthscale = 1.3\n",
    "\n",
    "index_points = jnp.linspace(0., 6., 10)[:, None]\n",
    "base_kernel_fun = lambda x, y: kernels.rbf_kernel_fun(x, y, 1., lengthscale)\n",
    "base_mean_fun = lambda x: jnp.zeros(x.shape[:-1])"
   ]
  },
  {
   "cell_type": "code",
   "execution_count": 3,
   "metadata": {},
   "outputs": [],
   "source": [
    "gp = distributions.GaussianProcess(index_points, base_mean_fun, base_kernel_fun, 1e-6)\n",
    "\n",
    "pf_x = gp.marginal()"
   ]
  },
  {
   "cell_type": "code",
   "execution_count": 4,
   "metadata": {},
   "outputs": [],
   "source": [
    "# generate some data\n",
    "obs_noise_scale = 1.5\n",
    "\n",
    "key = random.PRNGKey(0)\n",
    "f = pf_x.sample(key)\n",
    "y = f + obs_noise_scale*random.normal(key, (10, ))\n",
    "\n",
    "xnew = jnp.linspace(-1., 8., 35)[:, None]\n",
    "\n",
    "post_gp = gp.posterior_gp(y, xnew, obs_noise_scale**2)"
   ]
  },
  {
   "cell_type": "code",
   "execution_count": 5,
   "metadata": {},
   "outputs": [],
   "source": [
    "m = post_gp.mean_function(xnew)\n",
    "kxnew = post_gp.kernel_function(xnew, xnew)\n",
    "sd = jnp.sqrt(jnp.diag(kxnew))"
   ]
  },
  {
   "cell_type": "code",
   "execution_count": 6,
   "metadata": {},
   "outputs": [
    {
     "data": {
      "text/plain": [
       "TensorShape([35, 1])"
      ]
     },
     "execution_count": 6,
     "metadata": {},
     "output_type": "execute_result"
    }
   ],
   "source": [
    "data = (onp.asarray(index_points, dtype=onp.float64), onp.asarray(y[:, None], onp.float64))\n",
    "\n",
    "gpf_kernel = gpflow.kernels.RBF(1., lengthscales=lengthscale)\n",
    "gpflow_mod = gpflow.models.GPR(\n",
    "    data,\n",
    "    gpf_kernel, \n",
    "    noise_variance=obs_noise_scale**2)\n",
    "\n",
    "f_mean, f_var = gpflow_mod.predict_f(onp.asarray(xnew, dtype=onp.float64))\n",
    "f_var.shape"
   ]
  },
  {
   "cell_type": "code",
   "execution_count": 7,
   "metadata": {},
   "outputs": [],
   "source": [
    "import tensorflow_probability as tfp\n",
    "import tensorflow as tf\n",
    "\n",
    "tfk = tfp.math.psd_kernels\n",
    "tfd = tfp.distributions\n",
    "\n",
    "tf_kern = tfk.ExponentiatedQuadratic(\n",
    "    amplitude=tf.ones([1], dtype=tf.float64), \n",
    "    length_scale=lengthscale*tf.ones([1], dtype=tf.float64))\n",
    "\n",
    "tf_gp = tfd.GaussianProcessRegressionModel(\n",
    "    tf_kern,\n",
    "    index_points=onp.array(xnew, onp.float64),\n",
    "    observation_index_points=onp.array(index_points, onp.float64),\n",
    "    observations=onp.array(y, onp.float64),\n",
    "    observation_noise_variance=obs_noise_scale**2*tf.ones([1], tf.float64))"
   ]
  },
  {
   "cell_type": "code",
   "execution_count": 8,
   "metadata": {},
   "outputs": [],
   "source": [
    "import jax.scipy as jscipy\n",
    "self = gp\n",
    "\n",
    "x_new = xnew\n",
    "\n",
    "k_xnew_x = self.kernel_function(x_new, self.index_points)\n",
    "marginal = self.marginal()\n",
    "\n",
    "def cond_mean_fn(x):\n",
    "    return (self.mean_function(x_new)\n",
    "            + k_xnew_x @ jscipy.linalg.cho_solve(\n",
    "                (marginal.scale, True), y - marginal.mean))"
   ]
  },
  {
   "cell_type": "code",
   "execution_count": 9,
   "metadata": {},
   "outputs": [
    {
     "name": "stdout",
     "output_type": "stream",
     "text": [
      "[[[ 0.  0.  0.  0.  0.  0.  0.  0.  0.  0.]\n",
      "  [-0.  0.  0.  0.  0.  0.  0.  0.  0.  0.]\n",
      "  [-0. -0.  0.  0.  0.  0.  0.  0.  0.  0.]\n",
      "  [-0. -0. -0.  0.  0.  0.  0.  0.  0.  0.]\n",
      "  [-0. -0. -0. -0.  0.  0.  0.  0.  0.  0.]\n",
      "  [-0. -0. -0. -0. -0.  0.  0.  0.  0.  0.]\n",
      "  [-0. -0. -0. -0. -0. -0.  0.  0.  0.  0.]\n",
      "  [-0. -0. -0. -0. -0. -0. -0.  0.  0.  0.]\n",
      "  [-0. -0. -0. -0. -0. -0. -0. -0.  0.  0.]\n",
      "  [-0. -0. -0. -0. -0. -0. -0. -0. -0.  0.]]]\n"
     ]
    }
   ],
   "source": [
    "p = tf_gp.get_marginal_distribution()\n",
    "tf_m = p.mean()\n",
    "\n",
    "onp.set_printoptions(precision=3, suppress=True)\n",
    "L1 = tf_gp.kernel.divisor_matrix_cholesky().numpy()\n",
    "L2 = post_gp.kernel_function.divisor_matrix_cholesky\n",
    "print(L1 - L2)"
   ]
  },
  {
   "cell_type": "code",
   "execution_count": 10,
   "metadata": {},
   "outputs": [],
   "source": [
    "xtest = onp.linspace(-3., 3., 10)[:, None]"
   ]
  },
  {
   "cell_type": "code",
   "execution_count": 11,
   "metadata": {},
   "outputs": [],
   "source": [
    "def bar(self, x1, x2):\n",
    "    k12 = self.kernel_fn(x1, x2)\n",
    "    kz1 = self.kernel_fn(self.fixed_inputs, x1)\n",
    "    kz2 = self.kernel_fn(self.fixed_inputs, x2)\n",
    "    cholinv_kz1 = jscipy.linalg.solve_triangular(\n",
    "        self.divisor_matrix_cholesky, kz1, lower=True)\n",
    "    cholinv_kz2 = jscipy.linalg.solve_triangular(\n",
    "        self.divisor_matrix_cholesky, kz2, lower=True)\n",
    "\n",
    "    return k12 - cholinv_kz1.T @ cholinv_kz2\n",
    "\n",
    "C1 = bar(post_gp.kernel_function, xtest, xtest)"
   ]
  },
  {
   "cell_type": "code",
   "execution_count": 12,
   "metadata": {},
   "outputs": [],
   "source": [
    "def foo(self, x1, x2):\n",
    "    k12 = self.base_kernel.matrix(x1, x2)\n",
    "\n",
    "    fixed_inputs = self.fixed_inputs\n",
    "    \n",
    "    # Shape: bc(Bk, B1, Bz) + E1 + [ez]\n",
    "    k1z = self.base_kernel.matrix(x1, fixed_inputs)\n",
    "\n",
    "    # Shape: bc(Bk, B2, Bz) + E2 + [ez]\n",
    "    k2z = self.base_kernel.matrix(x2, fixed_inputs)\n",
    "\n",
    "    # Shape: bc(Bz, Bk) + [ez, ez]\n",
    "    div_mat_chol = self._divisor_matrix_cholesky(\n",
    "        fixed_inputs=fixed_inputs)\n",
    "\n",
    "    div_mat_chol_linop = tf.linalg.LinearOperatorLowerTriangular(div_mat_chol)\n",
    "    \n",
    "    # Shape: bc(Bz, Bk, B2) + [ez] + E1\n",
    "    cholinv_kz1 = div_mat_chol_linop.solve(k1z, adjoint_arg=True)\n",
    "    # Shape: bc(Bz, Bk, B2) + [ez] + E2\n",
    "    cholinv_kz2 = div_mat_chol_linop.solve(k2z, adjoint_arg=True)\n",
    "    k1z_kzzinv_kz2 = tf.linalg.matmul(\n",
    "        cholinv_kz1, cholinv_kz2, transpose_a=True)\n",
    "    # Shape: bc(Bz, Bk, B1, B2) + bc(E1, E2)\n",
    "    \n",
    "    return k12 - k1z_kzzinv_kz2\n",
    "    \n",
    "\n",
    "C2 = foo(tf_gp.kernel, xtest, xtest)"
   ]
  },
  {
   "cell_type": "code",
   "execution_count": 13,
   "metadata": {},
   "outputs": [
    {
     "data": {
      "text/plain": [
       "DeviceArray([[[-0., -0., -0., -0., -0., -0., -0., -0.,  0.,  0.],\n",
       "              [-0., -0., -0., -0., -0., -0., -0., -0.,  0.,  0.],\n",
       "              [-0., -0., -0., -0., -0., -0., -0., -0.,  0.,  0.],\n",
       "              [-0., -0., -0., -0., -0., -0., -0., -0., -0.,  0.],\n",
       "              [-0., -0., -0., -0., -0., -0., -0., -0., -0.,  0.],\n",
       "              [-0., -0., -0., -0., -0., -0., -0., -0., -0., -0.],\n",
       "              [-0., -0., -0., -0., -0., -0., -0., -0., -0., -0.],\n",
       "              [-0., -0., -0., -0., -0., -0., -0., -0., -0., -0.],\n",
       "              [ 0.,  0.,  0., -0., -0., -0., -0., -0., -0., -0.],\n",
       "              [ 0.,  0.,  0.,  0.,  0., -0., -0., -0., -0., -0.]]],            dtype=float64)"
      ]
     },
     "execution_count": 13,
     "metadata": {},
     "output_type": "execute_result"
    }
   ],
   "source": [
    "C1 - C2.numpy()"
   ]
  },
  {
   "cell_type": "code",
   "execution_count": 14,
   "metadata": {},
   "outputs": [
    {
     "name": "stdout",
     "output_type": "stream",
     "text": [
      "[[[ 0.  0.  0. -0.  0. -0.  0.  0.  0.  0.]\n",
      "  [ 0.  0.  0.  0. -0.  0. -0. -0.  0.  0.]\n",
      "  [ 0.  0.  0.  0.  0. -0.  0. -0.  0.  0.]\n",
      "  [-0.  0.  0.  0.  0.  0. -0.  0. -0.  0.]\n",
      "  [ 0. -0.  0.  0.  0.  0.  0.  0.  0. -0.]\n",
      "  [-0.  0. -0.  0.  0.  0.  0.  0. -0.  0.]\n",
      "  [ 0. -0.  0. -0.  0.  0.  0.  0.  0. -0.]\n",
      "  [ 0. -0. -0.  0.  0.  0.  0.  0.  0.  0.]\n",
      "  [ 0.  0.  0. -0.  0. -0.  0.  0.  0.  0.]\n",
      "  [ 0.  0.  0.  0. -0.  0. -0.  0.  0.  0.]]]\n"
     ]
    }
   ],
   "source": [
    "xtest = onp.linspace(-3., 3., 10)[:, None]\n",
    "\n",
    "K1 = post_gp.kernel_function.kernel_fn(xtest, xtest)\n",
    "K2 = tf_gp.kernel.base_kernel.matrix(xtest, xtest)\n",
    "print(K1 - K2.numpy())"
   ]
  },
  {
   "cell_type": "code",
   "execution_count": 15,
   "metadata": {},
   "outputs": [
    {
     "name": "stdout",
     "output_type": "stream",
     "text": [
      "[[[-0. -0. -0. -0. -0. -0. -0. -0.  0.  0.]\n",
      "  [-0. -0. -0. -0. -0. -0. -0. -0.  0.  0.]\n",
      "  [-0. -0. -0. -0. -0. -0. -0. -0.  0.  0.]\n",
      "  [-0. -0. -0. -0. -0. -0. -0. -0. -0.  0.]\n",
      "  [-0. -0. -0. -0. -0. -0. -0. -0. -0.  0.]\n",
      "  [-0. -0. -0. -0. -0. -0. -0. -0. -0. -0.]\n",
      "  [-0. -0. -0. -0. -0. -0. -0. -0. -0. -0.]\n",
      "  [-0. -0. -0. -0. -0. -0. -0. -0. -0. -0.]\n",
      "  [ 0.  0.  0. -0. -0. -0. -0. -0. -0. -0.]\n",
      "  [ 0.  0.  0.  0.  0. -0. -0. -0. -0. -0.]]]\n"
     ]
    }
   ],
   "source": [
    "xtest = onp.linspace(-3., 3., 10)[:, None]\n",
    "\n",
    "K1 = post_gp.kernel_function(xtest, xtest)\n",
    "K2 = tf_gp.kernel.matrix(xtest, xtest)\n",
    "print(K1 - K2.numpy())"
   ]
  },
  {
   "cell_type": "code",
   "execution_count": 16,
   "metadata": {},
   "outputs": [
    {
     "name": "stdout",
     "output_type": "stream",
     "text": [
      "<function <lambda> at 0x15102ff80>\n",
      "<function GaussianProcess.posterior_gp.<locals>.cond_mean_fn at 0x151054ef0>\n"
     ]
    }
   ],
   "source": [
    "print(gp.mean_function)\n",
    "print(post_gp.mean_function)"
   ]
  },
  {
   "cell_type": "code",
   "execution_count": 17,
   "metadata": {},
   "outputs": [
    {
     "data": {
      "image/png": "[encoded data removed]",
      "text/plain": [
       "<Figure size 720x432 with 1 Axes>"
      ]
     },
     "metadata": {
      "needs_background": "light"
     },
     "output_type": "display_data"
    }
   ],
   "source": [
    "import matplotlib.pyplot as plt\n",
    "fig, ax = plt.subplots(figsize=(10, 6))\n",
    "#ax.plot(index_points[:, 0], f, 'o')\n",
    "#ax.plot(index_points[:, 0], y, '+')\n",
    "ax.plot(xnew[:, 0], post_gp.mean_function(xnew))\n",
    "ax.plot(xnew[:, 0], tf_m[0], 's-')\n",
    "#ax.plot(xnew[:, 0], cond_mean_fn(xnew))\n",
    "\n",
    "\n",
    "ax.fill_between(xnew[:, 0], m + 2*sd, m - 2*sd, alpha=0.5)\n",
    "ax.plot(xnew[:, 0], f_mean[:, 0], '--')\n",
    "ax.plot(xnew[:, 0], f_mean[:, 0] + 2*onp.sqrt(f_var[:, 0]), 'k-')\n",
    "ax.plot(xnew[:, 0], f_mean[:, 0] - 2*onp.sqrt(f_var[:, 0]), 'k-')\n",
    "\n",
    "\n",
    "\n",
    "plt.show()"
   ]
  },
  {
   "cell_type": "code",
   "execution_count": 18,
   "metadata": {},
   "outputs": [],
   "source": [
    "# conditional mean function is wrong!"
   ]
  },
  {
   "cell_type": "code",
   "execution_count": 20,
   "metadata": {},
   "outputs": [
    {
     "data": {
      "text/plain": [
       "<tf.Tensor: shape=(), dtype=float64, numpy=-16.097046218827224>"
      ]
     },
     "execution_count": 20,
     "metadata": {},
     "output_type": "execute_result"
    }
   ],
   "source": [
    "gpflow_mod.log_marginal_likelihood()"
   ]
  },
  {
   "cell_type": "code",
   "execution_count": 24,
   "metadata": {},
   "outputs": [],
   "source": [
    "pf = gp.marginal()\n",
    "py = distributions.MultivariateNormalFull(\n",
    "    pf.mean, pf.scale @ pf.scale.T + jnp.eye(10)*obs_noise_scale**2)\n"
   ]
  },
  {
   "cell_type": "code",
   "execution_count": 25,
   "metadata": {},
   "outputs": [
    {
     "data": {
      "text/plain": [
       "DeviceArray(-16.097, dtype=float64)"
      ]
     },
     "execution_count": 25,
     "metadata": {},
     "output_type": "execute_result"
    }
   ],
   "source": [
    "py.log_prob(y)"
   ]
  },
  {
   "cell_type": "code",
   "execution_count": null,
   "metadata": {},
   "outputs": [],
   "source": []
  }
 ],
 "metadata": {
  "kernelspec": {
   "display_name": "Python (flax-fork)",
   "language": "python",
   "name": "flax_fork"
  },
  "language_info": {
   "codemirror_mode": {
    "name": "ipython",
    "version": 3
   },
   "file_extension": ".py",
   "mimetype": "text/x-python",
   "name": "python",
   "nbconvert_exporter": "python",
   "pygments_lexer": "ipython3",
   "version": "3.7.6"
  }
 },
 "nbformat": 4,
 "nbformat_minor": 4
}
