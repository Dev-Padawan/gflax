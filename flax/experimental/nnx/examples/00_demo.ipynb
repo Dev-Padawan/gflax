{
 "cells": [
  {
   "cell_type": "code",
   "execution_count": 1,
   "metadata": {},
   "outputs": [
    {
     "name": "stderr",
     "output_type": "stream",
     "text": [
      "A Google TPU may be present on this machine, but either a TPU-enabled jaxlib or libtpu is not installed. Falling back to cpu.\n"
     ]
    },
    {
     "name": "stdout",
     "output_type": "stream",
     "text": [
      "Linear(\n",
      "  din=2,\n",
      "  dout=2\n",
      ")\n",
      "[[0.63114893 1.2928092 ]\n",
      " [0.63114893 1.2928092 ]]\n"
     ]
    }
   ],
   "source": [
    "from flax.experimental import nnx\n",
    "import jax\n",
    "import jax.numpy as jnp\n",
    "\n",
    "\n",
    "class Linear(nnx.Module):\n",
    "\n",
    "  def __init__(self, din: int, dout: int, *, rngs: nnx.Rngs):\n",
    "    # static attributes\n",
    "    self.din = din\n",
    "    self.dout = dout\n",
    "    # variables\n",
    "    self.w = nnx.Param(jax.random.uniform(rngs.params(), (din, dout)))\n",
    "    self.b = nnx.Param(jnp.zeros((dout,)))\n",
    "\n",
    "  def __call__(self, x):\n",
    "    return x @ self.w + self.b\n",
    "\n",
    "\n",
    "linear = Linear(2, 2, rngs=nnx.Rngs(0))\n",
    "\n",
    "y = linear(jnp.ones((2, 2)))\n",
    "\n",
    "print(linear)\n",
    "print(y)"
   ]
  },
  {
   "cell_type": "code",
   "execution_count": 2,
   "metadata": {},
   "outputs": [
    {
     "name": "stdout",
     "output_type": "stream",
     "text": [
      "State({\n",
      "  'w': Array([[0.31696808, 0.55285215],\n",
      "         [0.31418085, 0.7399571 ]], dtype=float32),\n",
      "  'b': Array([0., 0.], dtype=float32)\n",
      "})\n",
      "GraphDef(\n",
      "  type=Linear,\n",
      "  index=0,\n",
      "  subgraphs=(),\n",
      "  static_fields=(('din', 2), ('dout', 2)),\n",
      "  variables=(('w', Param(\n",
      "      value=Empty\n",
      "    )), ('b', Param(\n",
      "      value=Empty\n",
      "    ))),\n",
      "  metadata=<class '__main__.Linear'>\n",
      ")\n"
     ]
    }
   ],
   "source": [
    "state, graphdef = linear.split()\n",
    "\n",
    "print(state)\n",
    "print(graphdef)"
   ]
  },
  {
   "cell_type": "code",
   "execution_count": 3,
   "metadata": {},
   "outputs": [
    {
     "data": {
      "text/plain": [
       "State({\n",
       "  'linear': {\n",
       "    'w': Array([[0.31696808, 0.55285215],\n",
       "           [0.31418085, 0.7399571 ]], dtype=float32),\n",
       "    'b': Array([0., 0.], dtype=float32)\n",
       "  }\n",
       "})"
      ]
     },
     "execution_count": 3,
     "metadata": {},
     "output_type": "execute_result"
    }
   ],
   "source": [
    "class Nested(nnx.Module):\n",
    "    def __init__(self, din: int, dout: int, *, rngs: nnx.Rngs):\n",
    "        self.linear = Linear(din, dout, rngs=rngs)\n",
    "    \n",
    "module = Nested(2, 2, rngs=nnx.Rngs(0))\n",
    "\n",
    "state, static = module.split()\n",
    "state"
   ]
  },
  {
   "cell_type": "code",
   "execution_count": 4,
   "metadata": {},
   "outputs": [
    {
     "name": "stdout",
     "output_type": "stream",
     "text": [
      "Linear(\n",
      "  din=2,\n",
      "  dout=2,\n",
      "  submodule=Linear(...)\n",
      ")\n",
      "[[0.63114893 1.2928092 ]\n",
      " [0.63114893 1.2928092 ]]\n"
     ]
    }
   ],
   "source": [
    "class Linear(nnx.Module):\n",
    "\n",
    "  def __init__(self, din: int, dout: int, *, rngs: nnx.Rngs):\n",
    "    self.din = din\n",
    "    self.dout = dout\n",
    "    self.w = nnx.Param(jax.random.uniform(rngs.params(), (din, dout)))\n",
    "    self.b = nnx.Param(jnp.zeros((dout,)))\n",
    "    # introduce a self-reference\n",
    "    self.submodule = self\n",
    "\n",
    "  def __call__(self, x):\n",
    "    return x @ self.submodule.w + self.submodule.b\n",
    "\n",
    "\n",
    "linear = Linear(2, 2, rngs=nnx.Rngs(0))\n",
    "\n",
    "y = linear(jnp.ones((2, 2)))\n",
    "\n",
    "print(linear)\n",
    "print(y)"
   ]
  },
  {
   "cell_type": "code",
   "execution_count": 5,
   "metadata": {},
   "outputs": [
    {
     "name": "stdout",
     "output_type": "stream",
     "text": [
      "State({\n",
      "  'w': Array([[0.31696808, 0.55285215],\n",
      "         [0.31418085, 0.7399571 ]], dtype=float32),\n",
      "  'b': Array([0., 0.], dtype=float32)\n",
      "})\n",
      "GraphDef(\n",
      "  type=Linear,\n",
      "  index=0,\n",
      "  subgraphs=(\n",
      "    ('submodule', 0)\n",
      "  ),\n",
      "  static_fields=(('din', 2), ('dout', 2)),\n",
      "  variables=(('w', Param(\n",
      "      value=Empty\n",
      "    )), ('b', Param(\n",
      "      value=Empty\n",
      "    ))),\n",
      "  metadata=<class '__main__.Linear'>\n",
      ")\n"
     ]
    }
   ],
   "source": [
    "state, graphdef = linear.split()\n",
    "\n",
    "print(state)\n",
    "print(graphdef)"
   ]
  },
  {
   "cell_type": "code",
   "execution_count": 6,
   "metadata": {},
   "outputs": [
    {
     "data": {
      "text/plain": [
       "True"
      ]
     },
     "execution_count": 6,
     "metadata": {},
     "output_type": "execute_result"
    }
   ],
   "source": [
    "linear2 = graphdef.merge(state)\n",
    "\n",
    "linear2.submodule is linear2"
   ]
  },
  {
   "cell_type": "code",
   "execution_count": 7,
   "metadata": {},
   "outputs": [
    {
     "name": "stdout",
     "output_type": "stream",
     "text": [
      "Linear(\n",
      "  din=2,\n",
      "  dout=2\n",
      ")\n",
      "[[0.63114893 1.2928092 ]\n",
      " [0.63114893 1.2928092 ]]\n"
     ]
    }
   ],
   "source": [
    "class Linear(nnx.Module):\n",
    "\n",
    "  def __init__(self, din: int, dout: int, *, rngs: nnx.Rngs):\n",
    "    # static attributes\n",
    "    self.din = din\n",
    "    self.dout = dout\n",
    "    # variables\n",
    "    self.w = nnx.Param(jax.random.uniform(rngs.params(), (din, dout)))\n",
    "    self.b = nnx.Param(jnp.zeros((dout,)))\n",
    "\n",
    "  def __call__(self, x):\n",
    "    y = x @ self.w + self.b\n",
    "    self.y = nnx.Intermediate(y)\n",
    "    return y\n",
    "\n",
    "\n",
    "linear = Linear(2, 2, rngs=nnx.Rngs(0))\n",
    "\n",
    "y = linear(jnp.ones((2, 2)))\n",
    "\n",
    "print(linear)\n",
    "print(y)"
   ]
  },
  {
   "cell_type": "code",
   "execution_count": 8,
   "metadata": {},
   "outputs": [
    {
     "name": "stdout",
     "output_type": "stream",
     "text": [
      "State({\n",
      "  'y': Array([[0.63114893, 1.2928092 ],\n",
      "         [0.63114893, 1.2928092 ]], dtype=float32)\n",
      "})\n",
      "State({\n",
      "  'w': Array([[0.31696808, 0.55285215],\n",
      "         [0.31418085, 0.7399571 ]], dtype=float32),\n",
      "  'b': Array([0., 0.], dtype=float32),\n",
      "  'y': Empty\n",
      "})\n"
     ]
    }
   ],
   "source": [
    "intermediates = linear.pop(nnx.Intermediate)\n",
    "state, graphdef = linear.split()\n",
    "\n",
    "print(intermediates)\n",
    "print(state)"
   ]
  },
  {
   "cell_type": "code",
   "execution_count": null,
   "metadata": {},
   "outputs": [],
   "source": []
  }
 ],
 "metadata": {
  "language_info": {
   "codemirror_mode": {
    "name": "ipython",
    "version": 3
   },
   "file_extension": ".py",
   "mimetype": "text/x-python",
   "name": "python",
   "nbconvert_exporter": "python",
   "pygments_lexer": "ipython3",
   "version": "3.9.18"
  }
 },
 "nbformat": 4,
 "nbformat_minor": 2
}
