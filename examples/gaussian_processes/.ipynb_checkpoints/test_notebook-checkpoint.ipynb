{
 "cells": [
  {
   "cell_type": "code",
   "execution_count": 38,
   "metadata": {},
   "outputs": [
    {
     "ename": "ImportError",
     "evalue": "cannot import name 'Float' from 'typing' (/Users/danieltait/anaconda3/envs/flax_fork/lib/python3.7/typing.py)",
     "output_type": "error",
     "traceback": [
      "\u001b[0;31m---------------------------------------------------------------------------\u001b[0m",
      "\u001b[0;31mImportError\u001b[0m                               Traceback (most recent call last)",
      "\u001b[0;32m<ipython-input-38-a3664c190ff2>\u001b[0m in \u001b[0;36m<module>\u001b[0;34m\u001b[0m\n\u001b[1;32m      2\u001b[0m \u001b[0;32mimport\u001b[0m \u001b[0mflax\u001b[0m\u001b[0;34m\u001b[0m\u001b[0;34m\u001b[0m\u001b[0m\n\u001b[1;32m      3\u001b[0m \u001b[0;32mfrom\u001b[0m \u001b[0mflax\u001b[0m \u001b[0;32mimport\u001b[0m \u001b[0mstruct\u001b[0m\u001b[0;34m\u001b[0m\u001b[0;34m\u001b[0m\u001b[0m\n\u001b[0;32m----> 4\u001b[0;31m \u001b[0;32mfrom\u001b[0m \u001b[0mtyping\u001b[0m \u001b[0;32mimport\u001b[0m \u001b[0mCallable\u001b[0m\u001b[0;34m,\u001b[0m \u001b[0mFloat\u001b[0m\u001b[0;34m\u001b[0m\u001b[0;34m\u001b[0m\u001b[0m\n\u001b[0m",
      "\u001b[0;31mImportError\u001b[0m: cannot import name 'Float' from 'typing' (/Users/danieltait/anaconda3/envs/flax_fork/lib/python3.7/typing.py)"
     ]
    }
   ],
   "source": [
    "import jax.numpy as jnp\n",
    "import flax\n",
    "from flax import struct\n",
    "from typing import Callable"
   ]
  },
  {
   "cell_type": "code",
   "execution_count": 46,
   "metadata": {},
   "outputs": [],
   "source": [
    "from jax import ops\n",
    "def _diag_shift(mat, val):\n",
    "    \"\"\" Shifts the diagonal of mat by val. \"\"\"\n",
    "    return ops.index_update(\n",
    "        mat,\n",
    "        jnp.diag_indices(mat.shape[-1], len(mat.shape)),\n",
    "        jnp.diag(mat) + val)\n",
    "\n",
    "@struct.dataclass\n",
    "class Foo(object):\n",
    "    base_kernel_fun: Callable = struct.field(pytree_node=False)\n",
    "    fixed_inputs: jnp.ndarray\n",
    "    diag_shift: float = 0.0\n",
    "    divisor_matrix_cholesky: jnp.ndarray = jnp.zeros([1, 1])\n",
    "    \n",
    "    def __post_init__(self):\n",
    "        divisor_matrix = self.base_kernel_fun(self.fixed_inputs, self.fixed_inputs)\n",
    "        divisor_matrix_cholesky = jnp.linalg.cholesky(\n",
    "            _diag_shift(divisor_matrix, self.jitter))\n",
    "        #self.replace(divisor_matrix_cholesky = divisor_matrix_cholesky)\n",
    "\n",
    "        \n",
    "    \n",
    "xx = jnp.linspace(0., 1., 3)[:, None]\n",
    "\n",
    "def rbf_kernel_fun(x, x2, amplitude=1., lengthscale=1.):\n",
    "    \"\"\" Functional definition of an RBF kernel. \"\"\"\n",
    "    pwd_dists = (x[..., None, :] - x2[..., None, :, :]) / lengthscale\n",
    "    kernel_matrix = jnp.exp(-.5 * jnp.sum(pwd_dists ** 2, axis=-1))\n",
    "    return amplitude**2 * kernel_matrix\n",
    "\n",
    "xx = jnp.linspace(0., 1., 3)[:, None]\n",
    "foo = Foo(rbf_kernel_fun, xx, 1.)"
   ]
  },
  {
   "cell_type": "code",
   "execution_count": 47,
   "metadata": {},
   "outputs": [
    {
     "name": "stdout",
     "output_type": "stream",
     "text": [
      "Foo(base_kernel_fun=<function rbf_kernel_fun at 0x13920ec20>, fixed_inputs=DeviceArray([[0. ],\n",
      "             [0.5],\n",
      "             [1. ]], dtype=float32), jitter=1.0, divisor_matrix_cholesky=DeviceArray([[0.]], dtype=float32))\n"
     ]
    }
   ],
   "source": [
    "print(foo)"
   ]
  }
 ],
 "metadata": {
  "kernelspec": {
   "display_name": "Python (flax-fork)",
   "language": "python",
   "name": "flax_fork"
  },
  "language_info": {
   "codemirror_mode": {
    "name": "ipython",
    "version": 3
   },
   "file_extension": ".py",
   "mimetype": "text/x-python",
   "name": "python",
   "nbconvert_exporter": "python",
   "pygments_lexer": "ipython3",
   "version": "3.7.6"
  }
 },
 "nbformat": 4,
 "nbformat_minor": 4
}
