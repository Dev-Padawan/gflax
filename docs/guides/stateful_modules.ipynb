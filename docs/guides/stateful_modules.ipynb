{
 "cells": [
  {
   "cell_type": "code",
   "execution_count": null,
   "metadata": {},
   "outputs": [],
   "source": [
    "! pip install -q flax"
   ]
  },
  {
   "cell_type": "code",
   "execution_count": 1,
   "metadata": {},
   "outputs": [],
   "source": [
    "import flax.linen as nn\n",
    "import jax\n",
    "import jax.numpy as jnp"
   ]
  },
  {
   "cell_type": "markdown",
   "metadata": {},
   "source": [
    "# Using stateful modules\n",
    "\n",
    "## Contents\n",
    "\n",
    "1. Introduction\n",
    "  * \n",
    "1. Using ``bind`` to create stateful modules:\n",
    "  * Show that use can use ``bind`` on top-level and dictly call it without having to use ``apply``.\n",
    "1. Accessing submodules:\n",
    "  * Show that you can access submodules defined in ``setup``.\n",
    "  * Show how to use ``bind`` + ``unbind`` to extract a submodule and its variables.\n",
    "1. Example of using ``bind`` for debbugging / inspecting the computation:\n",
    "  * Show how to use ``bind`` to manually run a ``Sequential`` module layer by layer.\n",
    "1. Edge cases of using ``bind``:\n",
    "  * JIT problems: show that you should not pass a bounded as a capture to a JITed function.\n",
    "  * Memory leak: show an example of how ``bind`` might cause a memory leak, and give some tips on how to avoid it."
   ]
  },
  {
   "cell_type": "markdown",
   "metadata": {},
   "source": [
    "## Introduction"
   ]
  },
  {
   "cell_type": "code",
   "execution_count": 3,
   "metadata": {},
   "outputs": [],
   "source": [
    "class AutoEncoder(nn.Module):\n",
    "  def setup(self):\n",
    "    self.encoder = nn.Dense(features=8)\n",
    "    self.decoder = nn.Dense(features=4)\n",
    "\n",
    "  def __call__(self, x):\n",
    "    z = self.encoder(x)\n",
    "    return self.decoder(z)\n",
    "\n",
    "x = jnp.ones((1, 5))\n",
    "module = AutoEncoder()\n",
    "variable = module.init(jax.random.PRNGKey(0), x)"
   ]
  },
  {
   "cell_type": "code",
   "execution_count": 3,
   "metadata": {},
   "outputs": [],
   "source": [
    "try:\n",
    "    module(x)\n",
    "except Exception as e:\n",
    "    pass"
   ]
  },
  {
   "cell_type": "code",
   "execution_count": 4,
   "metadata": {},
   "outputs": [
    {
     "name": "stdout",
     "output_type": "stream",
     "text": [
      "\"AutoEncoder\" object has no attribute \"encoder\". If \"encoder\" is defined in '.setup()', remember these fields are only accessible from inside 'init' or 'apply'.\n"
     ]
    }
   ],
   "source": [
    "try:\n",
    "    encoder = module.encoder\n",
    "except AttributeError as e:\n",
    "    print(e)"
   ]
  },
  {
   "cell_type": "markdown",
   "metadata": {},
   "source": [
    "## Using `bind` to create stateful modules"
   ]
  },
  {
   "cell_type": "code",
   "execution_count": 5,
   "metadata": {},
   "outputs": [],
   "source": [
    "bound_module = module.bind(variable)"
   ]
  },
  {
   "cell_type": "code",
   "execution_count": 8,
   "metadata": {},
   "outputs": [
    {
     "data": {
      "text/plain": [
       "Array([[-0.47444162, -1.2290186 ,  1.1803787 ,  2.7584562 ]], dtype=float32)"
      ]
     },
     "execution_count": 8,
     "metadata": {},
     "output_type": "execute_result"
    }
   ],
   "source": [
    "bound_module(x)"
   ]
  },
  {
   "cell_type": "code",
   "execution_count": 10,
   "metadata": {},
   "outputs": [],
   "source": [
    "bound_encoder = bound_module.encoder # Works!"
   ]
  },
  {
   "cell_type": "markdown",
   "metadata": {},
   "source": [
    "## Using `unbind` to create stateless modules"
   ]
  },
  {
   "cell_type": "code",
   "execution_count": null,
   "metadata": {},
   "outputs": [],
   "source": [
    "encoder, encoder_vars = bound_encoder.unbind()"
   ]
  },
  {
   "cell_type": "markdown",
   "metadata": {},
   "source": [
    "## Extracting submodules and their variables"
   ]
  },
  {
   "cell_type": "code",
   "execution_count": null,
   "metadata": {},
   "outputs": [],
   "source": [
    "encoder, encoder_vars = module.bind(variable).encoder.unbind()"
   ]
  },
  {
   "cell_type": "markdown",
   "metadata": {},
   "source": [
    "## Example: using `bind` for interactive computation"
   ]
  },
  {
   "cell_type": "code",
   "execution_count": 4,
   "metadata": {},
   "outputs": [],
   "source": [
    "module = nn.Sequential([\n",
    "    nn.Dense(8),\n",
    "    nn.relu,\n",
    "    nn.Dense(4),\n",
    "])\n",
    "variables = module.init(jax.random.PRNGKey(0), x)"
   ]
  },
  {
   "cell_type": "code",
   "execution_count": 11,
   "metadata": {},
   "outputs": [
    {
     "name": "stdout",
     "output_type": "stream",
     "text": [
      "Dense: (1, 5) -> (1, 8)\n",
      "relu: (1, 8) -> (1, 8)\n",
      "Dense: (1, 8) -> (1, 4)\n"
     ]
    }
   ],
   "source": [
    "def get_name(layer):\n",
    "    return type(layer).__name__ if isinstance(layer, nn.Module) else layer.__name__\n",
    "\n",
    "bound_module = module.bind(variables)\n",
    "bound_module._try_setup()\n",
    "\n",
    "inputs = x\n",
    "for layer in bound_module.layers:\n",
    "    outputs = layer(inputs)\n",
    "    print(f'{get_name(layer)}: {inputs.shape} -> {outputs.shape}')\n",
    "    inputs = outputs"
   ]
  },
  {
   "cell_type": "code",
   "execution_count": null,
   "metadata": {},
   "outputs": [],
   "source": []
  }
 ],
 "metadata": {
  "kernelspec": {
   "display_name": "Python 3.8.10 ('.venv': venv)",
   "language": "python",
   "name": "python3"
  },
  "language_info": {
   "codemirror_mode": {
    "name": "ipython",
    "version": 3
   },
   "file_extension": ".py",
   "mimetype": "text/x-python",
   "name": "python",
   "nbconvert_exporter": "python",
   "pygments_lexer": "ipython3",
   "version": "3.8.10"
  },
  "orig_nbformat": 4,
  "vscode": {
   "interpreter": {
    "hash": "ec7c69eb752b35b8fd728edc4753e382b54c10c43e6028c93b5837f81a552f5c"
   }
  }
 },
 "nbformat": 4,
 "nbformat_minor": 2
}
